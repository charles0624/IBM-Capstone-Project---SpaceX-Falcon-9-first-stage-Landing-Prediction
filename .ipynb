{
 "cells": [
  {
   "cell_type": "markdown",
   "id": "5ebf1666",
   "metadata": {},
   "source": [
    "# Flow Charts for Project"
   ]
  },
  {
   "cell_type": "markdown",
   "id": "e3e98420",
   "metadata": {},
   "source": [
    "## SpaceX API"
   ]
  },
  {
   "cell_type": "code",
   "execution_count": 11,
   "id": "4782e204",
   "metadata": {},
   "outputs": [],
   "source": [
    "import sys\n",
    "\n",
    "\n",
    "import requests\n",
    "from bs4 import BeautifulSoup\n",
    "import re\n",
    "import unicodedata\n",
    "import pandas as pd"
   ]
  },
  {
   "cell_type": "markdown",
   "id": "2d229642",
   "metadata": {},
   "source": [
    "1.Request to get rocket lunch data through API"
   ]
  },
  {
   "cell_type": "code",
   "execution_count": 12,
   "id": "9642f9ef",
   "metadata": {},
   "outputs": [],
   "source": [
    "space_url=\"https://api.spacexdata.com/v4/launches/past\""
   ]
  },
  {
   "cell_type": "code",
   "execution_count": 13,
   "id": "5d8d0a50",
   "metadata": {},
   "outputs": [],
   "source": [
    "response = requests.get(spacex_url)"
   ]
  },
  {
   "cell_type": "markdown",
   "id": "e7756edc",
   "metadata": {},
   "source": [
    "2.Use json_normalize method to convert json result to dataframe"
   ]
  },
  {
   "cell_type": "markdown",
   "id": "13e70ca7",
   "metadata": {},
   "source": [
    "static_json_df=re.jason()"
   ]
  },
  {
   "cell_type": "code",
   "execution_count": null,
   "id": "acc09a0c",
   "metadata": {},
   "outputs": [],
   "source": [
    "data=pd.jason_normalize(static_json_df)"
   ]
  },
  {
   "cell_type": "markdown",
   "id": "fdf09795",
   "metadata": {},
   "source": [
    "3.Perform data cleaning and filling in the missing values"
   ]
  },
  {
   "cell_type": "code",
   "execution_count": null,
   "id": "68d49644",
   "metadata": {},
   "outputs": [],
   "source": [
    "rows=data_falcon9['PayLoadMass'].values.tolist()[0]\n",
    "\n",
    "df_rows=pd.DataFrame(rows)\n",
    "df_rows=df_rows.replace(np.nan, PayLoadMass)\n",
    "\n",
    "data_falcon9['PayLoadMass'][0]=df_rows.values\n",
    "data_falcon9"
   ]
  }
 ],
 "metadata": {
  "kernelspec": {
   "display_name": "Python 3 (ipykernel)",
   "language": "python",
   "name": "python3"
  },
  "language_info": {
   "codemirror_mode": {
    "name": "ipython",
    "version": 3
   },
   "file_extension": ".py",
   "mimetype": "text/x-python",
   "name": "python",
   "nbconvert_exporter": "python",
   "pygments_lexer": "ipython3",
   "version": "3.11.3"
  }
 },
 "nbformat": 4,
 "nbformat_minor": 5
}
